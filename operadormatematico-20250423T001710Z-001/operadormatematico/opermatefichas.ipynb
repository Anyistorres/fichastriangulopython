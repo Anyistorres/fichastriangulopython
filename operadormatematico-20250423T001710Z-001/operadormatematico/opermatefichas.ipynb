{
  "nbformat": 4,
  "nbformat_minor": 0,
  "metadata": {
    "colab": {
      "provenance": []
    },
    "kernelspec": {
      "name": "python3",
      "display_name": "Python 3"
    },
    "language_info": {
      "name": "python"
    }
  },
  "cells": [
    {
      "cell_type": "markdown",
      "source": [
        "**OPERADORES MATEMATICOS EN PYTHON:**\n",
        "Los operadores matemáticos en Python son símbolos especiales que realizan operaciones aritméticas o matemáticas. Permiten realizar cálculos básicos como suma, resta, multiplicación, etc.\n",
        "\n",
        "**Tipos de operadores matemáticos:**\n",
        "\n",
        "   - `+` suma dos números\n",
        "   - `-` resta el segundo número del primero\n",
        "   - `*` multiplica dos números\n",
        "   - `/` divide y siempre devuelve un float (número con decimales)\n",
        "   - `//` división entera (descarta la parte decimal)\n",
        "   - `%` módulo (devuelve el resto de una división)\n",
        "   - `**` exponenciación (eleva un número a una potencia)"
      ],
      "metadata": {
        "id": "xm2LT2M3k6XR"
      }
    },
    {
      "cell_type": "code",
      "source": [
        "#EJEMPLO DE OPERADORES MATEMÁTICOS\n",
        "\n",
        "\n",
        "suma= 5+3  # Suma: 5 + 3 = 8\n",
        "resta= 10-4 # Resta: 10 - 4 = 6\n",
        "multiplicacion= 6*7 # Multiplicación: 6 × 7 = 42\n",
        "division= 20/5 # División: 20 ÷ 5 = 4 (siempre retorna float)\n",
        "division_entera= 20//3# División entera: 20 ÷ 3 = 6 (descarta el decimal)\n",
        "modulo= 20%3# Módulo: resto de 20 ÷ 3 = 2\n",
        "potencia= 2**3 # Potencia: 2 elevado a 3 = 8\n",
        "\n",
        "\n",
        "# Mostrando resultados\n",
        "print(\"Resultados de operaciones aritméticas:\")\n",
        "print(f\"Suma: {suma}, Resta: {resta}, Multiplicación: {multiplicacion}\")\n",
        "print(f\"División:{division}, División entera:{division_entera}, Módulo:{modulo}\")\n",
        "print(f\"Potencia:{potencia}\")"
      ],
      "metadata": {
        "id": "oc94J7Ttq66E",
        "colab": {
          "base_uri": "https://localhost:8080/"
        },
        "outputId": "688ccd1d-54e3-40fd-f09e-da69e8f58fe4"
      },
      "execution_count": null,
      "outputs": [
        {
          "output_type": "stream",
          "name": "stdout",
          "text": [
            "Resultados de operaciones aritméticas:\n",
            "Suma: 8, Resta: 6, Multiplicación: 42\n",
            "División: 4.0, División entera: 6, Módulo: 2\n",
            "Potencia: 8\n"
          ]
        }
      ]
    },
    {
      "cell_type": "markdown",
      "source": [
        "\n",
        "**NOTAS:**\n",
        "1. Practica cada operador por separado\n",
        "2. Usa \"print()\" para ver los resultados de las operaciones.\n",
        "3. Recuerda que `=` es para asignación y `==` es para comparación\n",
        "4. La división `/` siempre devuelve float, incluso si el resultado es entero\n",
        "5. El operador módulo `%` es útil para determinar si un número es par o impar (n % 2 == 0)"
      ],
      "metadata": {
        "id": "pSTU7Yo9ss3C"
      }
    },
    {
      "cell_type": "markdown",
      "source": [
        "[AUDIO:] https://anyistorres.github.io/fichastriangulopython/operadormatematico-20250423T001710Z-001/operadormatematico/operadormatematicos.aac"
      ],
      "metadata": {
        "id": "Q04zIeJkLV4J"
      }
    }
  ]
}