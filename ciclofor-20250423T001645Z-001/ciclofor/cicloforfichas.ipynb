{
  "nbformat": 4,
  "nbformat_minor": 0,
  "metadata": {
    "colab": {
      "provenance": []
    },
    "kernelspec": {
      "name": "python3",
      "display_name": "Python 3"
    },
    "language_info": {
      "name": "python"
    }
  },
  "cells": [
    {
      "cell_type": "markdown",
      "source": [
        "**Ciclo for en Python:** Un ciclof or es una estructura de control en Python que se utiliza para iterar sobre una secuencia de elementos. Una secuencia puede ser una lista, una tupla, una cadena o un rango."
      ],
      "metadata": {
        "id": "VTwzaCjzlWNE"
      }
    },
    {
      "cell_type": "code",
      "source": [
        "#Ejemplo:\n",
        "\n",
        "#se crea una lista, luego se nombra el ciclo \"for\",\n",
        "my_list = [1, 2, 3, 4]\n",
        "for numeros in my_list:\n",
        "  print(numeros)\n",
        "\n",
        "#el siguiente código itera sobre la lista my_list y imprime cada elemento:\n",
        "#1\n",
        "#2\n",
        "#3\n",
        "#4"
      ],
      "metadata": {
        "colab": {
          "base_uri": "https://localhost:8080/"
        },
        "id": "UoJpclxdnt44",
        "outputId": "bd89c776-f7a7-4f73-d7dc-2b8651600979"
      },
      "execution_count": null,
      "outputs": [
        {
          "output_type": "stream",
          "name": "stdout",
          "text": [
            "1\n",
            "2\n",
            "3\n",
            "4\n"
          ]
        }
      ]
    },
    {
      "cell_type": "markdown",
      "source": [
        "**Bucle for en diccionarios:** En caso es especial de bucle for se da al recorrer los elementos de un diccionario. Dado que un diccionario está compuesto por pares clave/valor, hay distintas formas de iterar sobre ellas."
      ],
      "metadata": {
        "id": "DLJyN33gof_Z"
      }
    },
    {
      "cell_type": "code",
      "source": [
        "#1.Recorrer las claves del diccionario.\n",
        "\n",
        "valores = {'A': 4, 'E': 3, 'I': 1, 'O': 0}\n",
        "for k in valores:\n",
        "    print(k)\n"
      ],
      "metadata": {
        "colab": {
          "base_uri": "https://localhost:8080/"
        },
        "id": "QLAQAbBDt9Gu",
        "outputId": "e55ea9a2-b11b-4cef-f162-50f52ee0983f",
        "collapsed": true
      },
      "execution_count": null,
      "outputs": [
        {
          "output_type": "stream",
          "name": "stdout",
          "text": [
            "A\n",
            "E\n",
            "I\n",
            "O\n"
          ]
        }
      ]
    },
    {
      "cell_type": "code",
      "source": [
        "#2. Iterar sobre los valores del diccionario\n",
        "\n",
        "valores = {'A': 4, 'E': 3, 'I': 1, 'O': 0}\n",
        "for v in valores.values():\n",
        "    print(v)\n"
      ],
      "metadata": {
        "id": "lW79talMubJ2"
      },
      "execution_count": null,
      "outputs": []
    },
    {
      "cell_type": "code",
      "source": [
        "#3. Iterar a la vez sobre la clave y el valor de cada uno de los elementos del diccionario.\n",
        "\n",
        "valores = {'A': 4, 'E': 3, 'I': 1, 'O': 0}\n",
        "for k, v in valores.items():\n",
        "    print('k=', k, ', v=', v)\n",
        "k=A, v=4\n",
        "k=E, v=3\n",
        "k=I, v=1\n",
        "k=O, v=0"
      ],
      "metadata": {
        "id": "-tIcDwvru816"
      },
      "execution_count": null,
      "outputs": []
    },
    {
      "cell_type": "markdown",
      "source": [
        "**Python for y la clase range:** Para estos casos, Python pone a nuestra disposición la clase range (en Python 2 era una función). El constructor de esta clase, range(max), devuelve un iterable cuyos valores van desde 0 hasta max - 1.\n"
      ],
      "metadata": {
        "id": "1M_EyxKFvxg7"
      }
    },
    {
      "cell_type": "code",
      "source": [
        "#EJEMPLO:\n",
        "for i in range(11):\n",
        "    print(i)"
      ],
      "metadata": {
        "colab": {
          "base_uri": "https://localhost:8080/"
        },
        "collapsed": true,
        "id": "XNf-OkVwv_UL",
        "outputId": "f021919f-681b-4b1f-ea98-e177a4489226"
      },
      "execution_count": null,
      "outputs": [
        {
          "output_type": "stream",
          "name": "stdout",
          "text": [
            "0\n",
            "1\n",
            "2\n",
            "3\n",
            "4\n",
            "5\n",
            "6\n",
            "7\n",
            "8\n",
            "9\n",
            "10\n"
          ]
        }
      ]
    },
    {
      "cell_type": "markdown",
      "source": [
        "El tipo de datos range se puede invocar con uno, dos e incluso tres parámetros:\n",
        "\n",
        "- range(max): Un iterable de números enteros consecutivos que empieza en 0 y acaba en max - 1\n",
        "- range(min, max): Un iterable de números enteros consecutivos que empieza en min y acaba en max - 1\n",
        "- range(min, max, step): Un iterable de números enteros consecutivos que empieza en min acaba en max - 1 y los valores se van incrementando de step en step. Este último caso simula el bucle for con variable de control."
      ],
      "metadata": {
        "id": "o0QOVz4dwTPH"
      }
    },
    {
      "cell_type": "code",
      "source": [
        "#EJEMPLO: Mostrar los números pares del 0 al 10.\n",
        "\n",
        "for num in range(0, 11, 2):\n",
        "    print(num)\n",
        "\n",
        "#salida: 0, 2, 4, 6, 8, 10"
      ],
      "metadata": {
        "colab": {
          "base_uri": "https://localhost:8080/"
        },
        "id": "aZf6RIAywjog",
        "outputId": "84842901-1172-422a-d013-672791fe633d"
      },
      "execution_count": null,
      "outputs": [
        {
          "output_type": "stream",
          "name": "stdout",
          "text": [
            "0\n",
            "2\n",
            "4\n",
            "6\n",
            "8\n",
            "10\n"
          ]
        }
      ]
    },
    {
      "cell_type": "markdown",
      "source": [
        "**Iteración del bucle for: break y continue:** Vamos a ver que es posible alterar la iteración de un bucle for en Python. Para ello, nos valdremos de las sentencias break y continue.\n",
        "\n",
        "- break se utiliza para finalizar y salir el bucle, por ejemplo, si se cumple alguna condición.\n",
        "- continue salta al siguiente paso de la iteración, ignorando todas las sentencias que le siguen y que forman parte del bucle."
      ],
      "metadata": {
        "id": "cwpFdZSwxRn3"
      }
    },
    {
      "cell_type": "code",
      "source": [
        "#Ejemplo Uso de break. Encontrar un elemento en una colección y si se cumple la condicion salir del bucle.\n",
        "\n",
        "coleccion = [2, 4, 5, 7, 8, 9, 3, 4]\n",
        "for e in coleccion:\n",
        "    if e == 7:\n",
        "        break\n",
        "    print(e)"
      ],
      "metadata": {
        "colab": {
          "base_uri": "https://localhost:8080/"
        },
        "id": "BDT3cpWbxvgQ",
        "outputId": "c2d7f42e-a405-40e0-bfb4-a26b72b2d5a8"
      },
      "execution_count": null,
      "outputs": [
        {
          "output_type": "stream",
          "name": "stdout",
          "text": [
            "2\n",
            "4\n",
            "5\n"
          ]
        }
      ]
    },
    {
      "cell_type": "code",
      "source": [
        "#Ejemplo Uso de continue. Imprimir solo los números pares de una colección\n",
        "\n",
        "coleccion = [2, 4, 5, 7, 8, 9, 3, 4]\n",
        "for e in coleccion:\n",
        "    if e % 2 != 0:\n",
        "        continue\n",
        "    print(e)"
      ],
      "metadata": {
        "id": "iQFkbEz-yZBM"
      },
      "execution_count": null,
      "outputs": []
    },
    {
      "cell_type": "markdown",
      "source": [
        "**Else en bucle for:** En relación al apartado anterior, Python ofrece una estructura adicional de bucle for, el código del bloque else se ejecutará siempre y cuando no se haya ejecutado la sentencia break dentro del bloque del for.\n"
      ],
      "metadata": {
        "id": "3FjiQPb2zdUO"
      }
    },
    {
      "cell_type": "code",
      "source": [
        "\n",
        "#si en la lista se encuentra el numero 7 \"break\" para salir\n",
        "numeros = [1, 2, 4, 3, 5, 8, 6]\n",
        "for n in numeros:\n",
        "    if n == 7:\n",
        "        break\n",
        "#si no \"else\" imprimir \"que no se encontro el numero\"\n",
        "else:\n",
        "    print('No se encontró el número 7')"
      ],
      "metadata": {
        "colab": {
          "base_uri": "https://localhost:8080/"
        },
        "id": "2P6tml_Vz68J",
        "outputId": "e2bc2020-4531-4fde-e314-a01497397647"
      },
      "execution_count": null,
      "outputs": [
        {
          "output_type": "stream",
          "name": "stdout",
          "text": [
            "No se encontró el número 7\n"
          ]
        }
      ]
    },
    {
      "cell_type": "markdown",
      "source": [
        "[AUDIO:]\n",
        "https://anyistorres.github.io/fichastriangulopython/ciclofor-20250423T001645Z-001/ciclofor/ciclofor.aac"
      ],
      "metadata": {
        "id": "kSKwmbpFJxO5"
      }
    }
  ]
}