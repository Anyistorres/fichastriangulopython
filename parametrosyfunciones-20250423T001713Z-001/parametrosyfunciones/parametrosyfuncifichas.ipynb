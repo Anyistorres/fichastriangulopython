{
  "nbformat": 4,
  "nbformat_minor": 0,
  "metadata": {
    "colab": {
      "provenance": []
    },
    "kernelspec": {
      "name": "python3",
      "display_name": "Python 3"
    },
    "language_info": {
      "name": "python"
    }
  },
  "cells": [
    {
      "cell_type": "markdown",
      "source": [
        "**Funciones y parametros en Python**\n",
        "Es un bloque de código reutilizable que realiza una tarea específica cuando se llama. Se define con def. Puede recibir parámetros (datos de entrada). Puede devolver un resultado con return.\n",
        "\n"
      ],
      "metadata": {
        "id": "kxe8ULGFd3X0"
      }
    },
    {
      "cell_type": "code",
      "source": [
        "#1. Funciones Básicas\n",
        "#Ejemplo 1: Función sin parámetros.\n",
        "\n",
        "def saludar():\n",
        "    print(\"¡Hola Mundo!\")\n",
        "\n",
        "saludar()  # Output: ¡Hola Mundo!"
      ],
      "metadata": {
        "id": "rZvANcwngqXs"
      },
      "execution_count": null,
      "outputs": []
    },
    {
      "cell_type": "code",
      "execution_count": null,
      "metadata": {
        "colab": {
          "base_uri": "https://localhost:8080/"
        },
        "id": "kAtj01n6bsZE",
        "outputId": "c059bad8-ffc0-4213-dccd-4f0706be0602"
      },
      "outputs": [
        {
          "output_type": "stream",
          "name": "stdout",
          "text": [
            "8\n"
          ]
        }
      ],
      "source": [
        "#Ejemplo 2: Función con parámetros\n",
        "\n",
        "def sumar(a, b):\n",
        "    resultado = a + b\n",
        "    return resultado\n",
        "\n",
        "print(sumar(3, 5))\n",
        "\n",
        "# Output: 8 Notas:\n",
        "\n",
        "#a y b son parámetros (variables que recibe la función).\n",
        "\n",
        "#return devuelve el resultado (si no lo tiene, la función retorna None)."
      ]
    },
    {
      "cell_type": "code",
      "source": [
        "#2. Parámetros con Valores por Defecto\n",
        "#Ejemplo:\n",
        "\n",
        "def saludar(nombre=\"guys\"):\n",
        "    print(f\"¡Hi, {nombre}!\")\n",
        "\n",
        "saludar()           # Output: ¡Hi, guys! (usa valor por defecto)\n",
        "saludar(\"Anyis\")      # Output: ¡Hi, Anyis!\n",
        "\n",
        "#Notas: Los parámetros con valor por defecto (nombre=\"Usuario\") deben ir al final."
      ],
      "metadata": {
        "colab": {
          "base_uri": "https://localhost:8080/"
        },
        "id": "UnCvs3HghZ1x",
        "outputId": "cc02760a-66a5-4f13-983e-05326ca8727f"
      },
      "execution_count": null,
      "outputs": [
        {
          "output_type": "stream",
          "name": "stdout",
          "text": [
            "¡Hi, guys!\n",
            "¡Hi, Anyis!\n"
          ]
        }
      ]
    },
    {
      "cell_type": "markdown",
      "source": [
        "**NOTAS:**\n",
        "- Nombra tus funciones usando verbos.\n",
        "- Utiliza funciones simple y despues las combinas.\n",
        "- comenta las funciones."
      ],
      "metadata": {
        "id": "4r7_3AlSjX2a"
      }
    }
  ]
}