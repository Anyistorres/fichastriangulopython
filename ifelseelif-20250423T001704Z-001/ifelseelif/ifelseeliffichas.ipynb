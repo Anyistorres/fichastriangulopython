{
  "nbformat": 4,
  "nbformat_minor": 0,
  "metadata": {
    "colab": {
      "provenance": []
    },
    "kernelspec": {
      "name": "python3",
      "display_name": "Python 3"
    },
    "language_info": {
      "name": "python"
    }
  },
  "cells": [
    {
      "cell_type": "markdown",
      "source": [
        "**Condicionales en Python (`if`, `elif`, `else`):**  Permiten que el programa tome decisiones ejecutando código según si se cumplen o no ciertas condiciones. Siempre va `if` → `elif` (opcional) → `else` (opcional).\n",
        "\n",
        "\n",
        " **1. `if` (si):** Ejecuta un bloque de código **solo si** la condición es verdadera (`True`).\n",
        "\n",
        "**Notas:**  \n",
        "- Termina con `:` y el bloque de código va indentado (normalmente 4 espacios).  \n",
        "- Si la condición es `False`, Python ignora el bloque.   \n",
        "\n",
        "\n",
        "\n",
        "\n"
      ],
      "metadata": {
        "id": "yfUEEZqQWkaT"
      }
    },
    {
      "cell_type": "code",
      "source": [
        "#Ejemplo if:\n",
        "edad = 18\n",
        "if edad >= 18:\n",
        "    print(\"Eres mayor de edad.\")  # Se ejecuta si la condición es True\n"
      ],
      "metadata": {
        "colab": {
          "base_uri": "https://localhost:8080/"
        },
        "id": "8Rv4C0w2Ywci",
        "outputId": "55eccf78-c961-4cdc-b201-b505671ca499"
      },
      "execution_count": null,
      "outputs": [
        {
          "output_type": "stream",
          "name": "stdout",
          "text": [
            "Eres mayor de edad.\n"
          ]
        }
      ]
    },
    {
      "cell_type": "markdown",
      "source": [
        "**2. `else` (si no):** Ejecuta un bloque de código **solo cuando** la condición del `if` es falsa (`False`).\n",
        "\n",
        "**Notas:**  \n",
        "- Siempre va **después** de un `if` (o `elif`).  \n",
        "- No lleva condición (solo `else:`)."
      ],
      "metadata": {
        "id": "1E6TMk40ZFQr"
      }
    },
    {
      "cell_type": "code",
      "source": [
        "#Ejemplo else:\n",
        "edad = 15\n",
        "if edad >= 18:\n",
        "    print(\"Eres mayor de edad.\")\n",
        "else:\n",
        "    print(\"Eres menor de edad.\")  # Se ejecuta porque el if es False\n"
      ],
      "metadata": {
        "colab": {
          "base_uri": "https://localhost:8080/"
        },
        "id": "t-JhoRwZZVT7",
        "outputId": "a94340af-21f4-432d-fa0c-4b72a534f999"
      },
      "execution_count": null,
      "outputs": [
        {
          "output_type": "stream",
          "name": "stdout",
          "text": [
            "Eres menor de edad.\n"
          ]
        }
      ]
    },
    {
      "cell_type": "markdown",
      "source": [
        "**3. `elif` (si no, si):** Comprueba **otra condición** si el `if` anterior fue `False`. Puedes usar varios `elif`.\n",
        "\n",
        "**Notas:**  \n",
        "- Es la abreviatura de `else if`.  \n",
        "- Python evalúa los `elif` en orden y ejecuta **solo el primero** que sea `True`."
      ],
      "metadata": {
        "id": "4sDuUvVMZ-aa"
      }
    },
    {
      "cell_type": "code",
      "source": [
        "#Ejemplo:\n",
        "\n",
        "nota = 75\n",
        "if nota >= 90:\n",
        "    print(\"Excelente\")\n",
        "elif nota >= 70:\n",
        "    print(\"Bueno\")  # Se ejecuta esta línea (primer elif True)\n",
        "elif nota >= 50:\n",
        "    print(\"Aprobado\")\n",
        "else:\n",
        "    print(\"Reprobado\")"
      ],
      "metadata": {
        "id": "wVc_6I70aLey"
      },
      "execution_count": null,
      "outputs": []
    },
    {
      "cell_type": "markdown",
      "source": [
        "[AUDIO:] https://anyistorres.github.io/fichastriangulopython/ifelseelif-20250423T001704Z-001/ifelseelif/condicionales.aac"
      ],
      "metadata": {
        "id": "9I3HVcPNKPEa"
      }
    }
  ]
}